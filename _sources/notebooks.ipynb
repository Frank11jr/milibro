{
 "cells": [
  {
   "cell_type": "markdown",
   "metadata": {},
   "source": [
    "# Importancia de la Inteligencia Artificial\n",
    "\n",
    "Hoy en día, la cantidad de datos que se genera, tanto por parte de los humanos como por parte de las máquinas, supera en gran medida la capacidad que tienen las personas de absorber, interpretar y tomar decisiones complejas basadas en esos datos.\n",
    "\n",
    "La inteligencia artificial supone la base de todo el aprendizaje automático y el futuro de todos los procesos complejos de toma de decisiones. \n",
    "\n",
    "Por ejemplo, la mayoría de los humanos pueden averiguar cómo no perder cuando juegan al tres en raya, aunque haya 255 168 movimientos únicos, de los cuales 46 080 terminan en tablas. Muchos menos podrían llegar a ser grandes maestros de las damas, con más de 500 x 1018 o 500 trillones de posibles movimientos diferentes. \n",
    "\n",
    "Los ordenadores son extremadamente eficientes a la hora de calcular estas combinaciones y permutaciones para llegar a la mejor decisión. La IA (y su evolución lógica del aprendizaje automático) y el aprendizaje profundo constituyen los cimientos del futuro en la toma de decisiones empresariales.\n"
   ]
  },
  {
   "cell_type": "markdown",
   "metadata": {},
   "source": []
  }
 ],
 "metadata": {
  "kernelspec": {
   "display_name": "Python 3",
   "language": "python",
   "name": "python3"
  },
  "language_info": {
   "codemirror_mode": {
    "name": "ipython",
    "version": 3
   },
   "file_extension": ".py",
   "mimetype": "text/x-python",
   "name": "python",
   "nbconvert_exporter": "python",
   "pygments_lexer": "ipython3",
   "version": "3.8.0"
  },
  "widgets": {
   "application/vnd.jupyter.widget-state+json": {
    "state": {},
    "version_major": 2,
    "version_minor": 0
   }
  }
 },
 "nbformat": 4,
 "nbformat_minor": 4
}
